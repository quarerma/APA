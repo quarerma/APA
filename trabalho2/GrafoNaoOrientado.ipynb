{
  "cells": [
    {
      "cell_type": "code",
      "execution_count": 11,
      "metadata": {
        "id": "U7sERKlOmzhc"
      },
      "outputs": [],
      "source": [
        "from collections import deque\n",
        "\n",
        "def eh_conexo(grafo):\n",
        "    \"\"\"\n",
        "    Verifica se um grafo não orientado é conexo utilizando a Busca em Largura (BFS).\n",
        "\n",
        "    Um grafo é conexo se, para qualquer par de vértices, existe um caminho\n",
        "    entre eles. O algoritmo funciona da seguinte forma:\n",
        "    1. Escolhe um vértice inicial arbitrário.\n",
        "    2. Realiza uma busca (BFS ou DFS) a partir desse vértice para encontrar todos\n",
        "       os vértices alcançáveis.\n",
        "    3. Compara o número de vértices visitados com o número total de vértices\n",
        "       no grafo. Se forem iguais, o grafo é conexo.\n",
        "\n",
        "    Args:\n",
        "        grafo (dict): O grafo representado como uma lista de adjacência.\n",
        "                      As chaves são os vértices e os valores são listas\n",
        "                      de seus vizinhos.\n",
        "\n",
        "    Returns:\n",
        "        bool: True se o grafo for conexo, False caso contrário.\n",
        "    \"\"\"\n",
        "    # Se o grafo não tiver vértices, podemos considerá-lo conexo\n",
        "    # (ou tratar como um caso especial, dependendo da definição).\n",
        "    if not grafo:\n",
        "        return True\n",
        "\n",
        "    # Pega uma lista de todos os vértices do grafo.\n",
        "    vertices = list(grafo.keys())\n",
        "    vertice_inicial = vertices[0]\n",
        "\n",
        "    # Conjunto para armazenar os vértices que já foram visitados.\n",
        "    visitados = set()\n",
        "\n",
        "    # Fila para o algoritmo BFS.\n",
        "    fila = deque([vertice_inicial])\n",
        "    visitados.add(vertice_inicial)\n",
        "\n",
        "    # Inicia a Busca em Largura.\n",
        "    while fila:\n",
        "        # Pega o próximo vértice da fila.\n",
        "        vertice_atual = fila.popleft()\n",
        "\n",
        "        # Itera sobre todos os vizinhos do vértice atual.\n",
        "        for vizinho in grafo[vertice_atual]:\n",
        "            if vizinho not in visitados:\n",
        "                # Se o vizinho ainda não foi visitado, marca como visitado\n",
        "                # e o adiciona à fila para visitar seus vizinhos depois.\n",
        "                visitados.add(vizinho)\n",
        "                fila.append(vizinho)\n",
        "\n",
        "    # Após a busca, verifica se o número de vértices visitados é igual\n",
        "    # ao número total de vértices no grafo.\n",
        "    return len(visitados) == len(vertices)"
      ]
    },
    {
      "cell_type": "markdown",
      "metadata": {
        "id": "u4M7zjPvo6dj"
      },
      "source": [
        "### Exemplos de uso"
      ]
    },
    {
      "cell_type": "code",
      "execution_count": 12,
      "metadata": {},
      "outputs": [],
      "source": [
        "import time\n",
        "\n",
        "def test(graph, qtd = 100000):\n",
        "    elapsed = 0\n",
        "    for i in range(qtd):\n",
        "        start = time.perf_counter_ns()\n",
        "        resultado_conexo = eh_conexo(graph)\n",
        "        end = time.perf_counter_ns()\n",
        "        elapsed += end - start\n",
        "    avg = elapsed / float(qtd)\n",
        "    print(f\"É conexo? {'Sim' if resultado_conexo else 'Não'}\")\n",
        "    print(f\"Número de testes: {qtd}\")\n",
        "    print(f\"Tempo médio de execução: {avg:.2f} nanosegundos\")\n",
        "    print(\"-\" * 35)"
      ]
    },
    {
      "cell_type": "code",
      "execution_count": 13,
      "metadata": {
        "colab": {
          "base_uri": "https://localhost:8080/"
        },
        "id": "_HZFhKPZo5Dz",
        "outputId": "ac6e21a3-7f4b-40d7-ab23-287c9ea63485"
      },
      "outputs": [
        {
          "name": "stdout",
          "output_type": "stream",
          "text": [
            "--- Grafo 1 (Fortemente Conexo) ---\n",
            "É conexo? Sim\n",
            "Número de testes: 100000\n",
            "Tempo médio de execução: 1213.46 nanosegundos\n",
            "-----------------------------------\n",
            "--- Grafo 2 (Apenas Fracamente Conexo) ---\n",
            "É conexo? Sim\n",
            "Número de testes: 100000\n",
            "Tempo médio de execução: 1049.18 nanosegundos\n",
            "-----------------------------------\n",
            "--- Grafo 3 (Desconexo) ---\n",
            "É conexo? Não\n",
            "Número de testes: 100000\n",
            "Tempo médio de execução: 706.72 nanosegundos\n",
            "-----------------------------------\n",
            "--- Grafo 4 (Desconexo) ---\n",
            "É conexo? Não\n",
            "Número de testes: 100000\n",
            "Tempo médio de execução: 716.18 nanosegundos\n",
            "-----------------------------------\n",
            "--- Grafo 5 (Apenas Fracamente Conexo) ---\n",
            "É conexo? Sim\n",
            "Número de testes: 100000\n",
            "Tempo médio de execução: 1307.11 nanosegundos\n",
            "-----------------------------------\n"
          ]
        }
      ],
      "source": [
        "# Exemplo 1\n",
        "grafo1 = {\n",
        "    0: [1, 3],\n",
        "    1: [0, 2],\n",
        "    2: [3, 4, 1],\n",
        "    3: [2, 0],\n",
        "    4: [2]\n",
        "}\n",
        "\n",
        "# Exemplo 2\n",
        "grafo2 = {\n",
        "    0: [1],\n",
        "    1: [0, 2],\n",
        "    2: [1, 3],\n",
        "    3: [2]\n",
        "}\n",
        "\n",
        "# Exemplo 3\n",
        "grafo3 = {\n",
        "    0: [1],\n",
        "    1: [0],\n",
        "    2: [3],\n",
        "    3: [2]\n",
        "}\n",
        "\n",
        "grafo4 = {\n",
        "    0: [1],\n",
        "    1: [0],\n",
        "    2: [3, 4],\n",
        "    3: [2, 4],\n",
        "    4: [2, 3]\n",
        "}\n",
        "\n",
        "grafo5 = {\n",
        "    0: [1, 2, 3],\n",
        "    1: [0, 3],\n",
        "    2: [0, 3, 4],\n",
        "    3: [0, 1, 2, 4],\n",
        "    4: [2, 3]\n",
        "}\n",
        "\n",
        "\n",
        "# Verificando e imprimindo os resultados\n",
        "print(\"--- Grafo 1 (Fortemente Conexo) ---\")\n",
        "test(grafo1)\n",
        "\n",
        "print(\"--- Grafo 2 (Apenas Fracamente Conexo) ---\")\n",
        "test(grafo2)\n",
        "\n",
        "print(\"--- Grafo 3 (Desconexo) ---\")\n",
        "test(grafo3)\n",
        "\n",
        "print(\"--- Grafo 4 (Desconexo) ---\")\n",
        "test(grafo4)\n",
        "\n",
        "print(\"--- Grafo 5 (Apenas Fracamente Conexo) ---\")\n",
        "test(grafo5)"
      ]
    }
  ],
  "metadata": {
    "colab": {
      "provenance": []
    },
    "kernelspec": {
      "display_name": "Python 3",
      "name": "python3"
    },
    "language_info": {
      "codemirror_mode": {
        "name": "ipython",
        "version": 3
      },
      "file_extension": ".py",
      "mimetype": "text/x-python",
      "name": "python",
      "nbconvert_exporter": "python",
      "pygments_lexer": "ipython3",
      "version": "3.12.0"
    }
  },
  "nbformat": 4,
  "nbformat_minor": 0
}
